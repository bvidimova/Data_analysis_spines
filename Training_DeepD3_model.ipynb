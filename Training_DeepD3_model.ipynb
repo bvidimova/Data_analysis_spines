{
  "cells": [
    {
      "cell_type": "markdown",
      "metadata": {
        "id": "view-in-github",
        "colab_type": "text"
      },
      "source": [
        "<a href=\"https://colab.research.google.com/github/bvidimova/Data_analysis_spines/blob/main/Training_DeepD3_model.ipynb\" target=\"_parent\"><img src=\"https://colab.research.google.com/assets/colab-badge.svg\" alt=\"Open In Colab\"/></a>"
      ]
    },
    {
      "cell_type": "code",
      "source": [
        "pip install deepd3\n"
      ],
      "metadata": {
        "colab": {
          "base_uri": "https://localhost:8080/"
        },
        "id": "JuBA0Aey4SAy",
        "outputId": "5978a125-3512-4842-d292-af7ce43a7fd5"
      },
      "id": "JuBA0Aey4SAy",
      "execution_count": 2,
      "outputs": [
        {
          "output_type": "stream",
          "name": "stdout",
          "text": [
            "Collecting deepd3\n",
            "  Downloading deepd3-0.1-py3-none-any.whl (47 kB)\n",
            "\u001b[?25l     \u001b[90m━━━━━━━━━━━━━━━━━━━━━━━━━━━━━━━━━━━━━━━━\u001b[0m \u001b[32m0.0/47.9 kB\u001b[0m \u001b[31m?\u001b[0m eta \u001b[36m-:--:--\u001b[0m\r\u001b[2K     \u001b[90m━━━━━━━━━━━━━━━━━━━━━━━━━━━━━━━━━━━━━━━━\u001b[0m \u001b[32m47.9/47.9 kB\u001b[0m \u001b[31m1.1 MB/s\u001b[0m eta \u001b[36m0:00:00\u001b[0m\n",
            "\u001b[?25hCollecting pyqtgraph>=0.10.0 (from deepd3)\n",
            "  Downloading pyqtgraph-0.13.3-py3-none-any.whl (960 kB)\n",
            "\u001b[2K     \u001b[90m━━━━━━━━━━━━━━━━━━━━━━━━━━━━━━━━━━━━━━━\u001b[0m \u001b[32m961.0/961.0 kB\u001b[0m \u001b[31m5.8 MB/s\u001b[0m eta \u001b[36m0:00:00\u001b[0m\n",
            "\u001b[?25hRequirement already satisfied: numpy in /usr/local/lib/python3.10/dist-packages (from deepd3) (1.23.5)\n",
            "Requirement already satisfied: numba in /usr/local/lib/python3.10/dist-packages (from deepd3) (0.56.4)\n",
            "Collecting flammkuchen (from deepd3)\n",
            "  Downloading flammkuchen-1.0.3-py2.py3-none-any.whl (16 kB)\n",
            "Collecting pyqt5 (from deepd3)\n",
            "  Downloading PyQt5-5.15.9-cp37-abi3-manylinux_2_17_x86_64.whl (8.4 MB)\n",
            "\u001b[2K     \u001b[90m━━━━━━━━━━━━━━━━━━━━━━━━━━━━━━━━━━━━━━━━\u001b[0m \u001b[32m8.4/8.4 MB\u001b[0m \u001b[31m19.6 MB/s\u001b[0m eta \u001b[36m0:00:00\u001b[0m\n",
            "\u001b[?25hRequirement already satisfied: scikit-image in /usr/local/lib/python3.10/dist-packages (from deepd3) (0.19.3)\n",
            "Requirement already satisfied: imageio in /usr/local/lib/python3.10/dist-packages (from deepd3) (2.31.5)\n",
            "Requirement already satisfied: imageio-ffmpeg in /usr/local/lib/python3.10/dist-packages (from deepd3) (0.4.9)\n",
            "Requirement already satisfied: opencv-python in /usr/local/lib/python3.10/dist-packages (from deepd3) (4.8.0.76)\n",
            "Requirement already satisfied: pandas in /usr/local/lib/python3.10/dist-packages (from deepd3) (1.5.3)\n",
            "Requirement already satisfied: tqdm in /usr/local/lib/python3.10/dist-packages (from deepd3) (4.66.1)\n",
            "Collecting roifile (from deepd3)\n",
            "  Downloading roifile-2023.8.30-py3-none-any.whl (16 kB)\n",
            "Collecting segmentation-models (from deepd3)\n",
            "  Downloading segmentation_models-1.0.1-py3-none-any.whl (33 kB)\n",
            "Collecting connected-components-3d (from deepd3)\n",
            "  Downloading connected_components_3d-3.12.3-cp310-cp310-manylinux_2_17_x86_64.manylinux2014_x86_64.whl (3.1 MB)\n",
            "\u001b[2K     \u001b[90m━━━━━━━━━━━━━━━━━━━━━━━━━━━━━━━━━━━━━━━━\u001b[0m \u001b[32m3.1/3.1 MB\u001b[0m \u001b[31m40.8 MB/s\u001b[0m eta \u001b[36m0:00:00\u001b[0m\n",
            "\u001b[?25hRequirement already satisfied: albumentations in /usr/local/lib/python3.10/dist-packages (from deepd3) (1.3.1)\n",
            "Requirement already satisfied: scipy>=1.1.0 in /usr/local/lib/python3.10/dist-packages (from albumentations->deepd3) (1.11.3)\n",
            "Requirement already satisfied: PyYAML in /usr/local/lib/python3.10/dist-packages (from albumentations->deepd3) (6.0.1)\n",
            "Requirement already satisfied: qudida>=0.0.4 in /usr/local/lib/python3.10/dist-packages (from albumentations->deepd3) (0.0.4)\n",
            "Requirement already satisfied: opencv-python-headless>=4.1.1 in /usr/local/lib/python3.10/dist-packages (from albumentations->deepd3) (4.8.1.78)\n",
            "Requirement already satisfied: networkx>=2.2 in /usr/local/lib/python3.10/dist-packages (from scikit-image->deepd3) (3.1)\n",
            "Requirement already satisfied: pillow!=7.1.0,!=7.1.1,!=8.3.0,>=6.1.0 in /usr/local/lib/python3.10/dist-packages (from scikit-image->deepd3) (9.4.0)\n",
            "Requirement already satisfied: tifffile>=2019.7.26 in /usr/local/lib/python3.10/dist-packages (from scikit-image->deepd3) (2023.9.26)\n",
            "Requirement already satisfied: PyWavelets>=1.1.1 in /usr/local/lib/python3.10/dist-packages (from scikit-image->deepd3) (1.4.1)\n",
            "Requirement already satisfied: packaging>=20.0 in /usr/local/lib/python3.10/dist-packages (from scikit-image->deepd3) (23.2)\n",
            "Requirement already satisfied: tables in /usr/local/lib/python3.10/dist-packages (from flammkuchen->deepd3) (3.8.0)\n",
            "Requirement already satisfied: setuptools in /usr/local/lib/python3.10/dist-packages (from imageio-ffmpeg->deepd3) (67.7.2)\n",
            "Requirement already satisfied: llvmlite<0.40,>=0.39.0dev0 in /usr/local/lib/python3.10/dist-packages (from numba->deepd3) (0.39.1)\n",
            "Requirement already satisfied: python-dateutil>=2.8.1 in /usr/local/lib/python3.10/dist-packages (from pandas->deepd3) (2.8.2)\n",
            "Requirement already satisfied: pytz>=2020.1 in /usr/local/lib/python3.10/dist-packages (from pandas->deepd3) (2023.3.post1)\n",
            "Collecting PyQt5-sip<13,>=12.11 (from pyqt5->deepd3)\n",
            "  Downloading PyQt5_sip-12.12.2-cp310-cp310-manylinux_2_5_x86_64.manylinux1_x86_64.whl (337 kB)\n",
            "\u001b[2K     \u001b[90m━━━━━━━━━━━━━━━━━━━━━━━━━━━━━━━━━━━━━━\u001b[0m \u001b[32m337.9/337.9 kB\u001b[0m \u001b[31m34.9 MB/s\u001b[0m eta \u001b[36m0:00:00\u001b[0m\n",
            "\u001b[?25hCollecting PyQt5-Qt5>=5.15.2 (from pyqt5->deepd3)\n",
            "  Downloading PyQt5_Qt5-5.15.2-py3-none-manylinux2014_x86_64.whl (59.9 MB)\n",
            "\u001b[2K     \u001b[90m━━━━━━━━━━━━━━━━━━━━━━━━━━━━━━━━━━━━━━━━\u001b[0m \u001b[32m59.9/59.9 MB\u001b[0m \u001b[31m12.6 MB/s\u001b[0m eta \u001b[36m0:00:00\u001b[0m\n",
            "\u001b[?25hCollecting keras-applications<=1.0.8,>=1.0.7 (from segmentation-models->deepd3)\n",
            "  Downloading Keras_Applications-1.0.8-py3-none-any.whl (50 kB)\n",
            "\u001b[2K     \u001b[90m━━━━━━━━━━━━━━━━━━━━━━━━━━━━━━━━━━━━━━━━\u001b[0m \u001b[32m50.7/50.7 kB\u001b[0m \u001b[31m6.4 MB/s\u001b[0m eta \u001b[36m0:00:00\u001b[0m\n",
            "\u001b[?25hCollecting image-classifiers==1.0.0 (from segmentation-models->deepd3)\n",
            "  Downloading image_classifiers-1.0.0-py3-none-any.whl (19 kB)\n",
            "Collecting efficientnet==1.0.0 (from segmentation-models->deepd3)\n",
            "  Downloading efficientnet-1.0.0-py3-none-any.whl (17 kB)\n",
            "Requirement already satisfied: h5py in /usr/local/lib/python3.10/dist-packages (from keras-applications<=1.0.8,>=1.0.7->segmentation-models->deepd3) (3.9.0)\n",
            "Requirement already satisfied: six>=1.5 in /usr/local/lib/python3.10/dist-packages (from python-dateutil>=2.8.1->pandas->deepd3) (1.16.0)\n",
            "Requirement already satisfied: scikit-learn>=0.19.1 in /usr/local/lib/python3.10/dist-packages (from qudida>=0.0.4->albumentations->deepd3) (1.2.2)\n",
            "Requirement already satisfied: typing-extensions in /usr/local/lib/python3.10/dist-packages (from qudida>=0.0.4->albumentations->deepd3) (4.5.0)\n",
            "Requirement already satisfied: cython>=0.29.21 in /usr/local/lib/python3.10/dist-packages (from tables->flammkuchen->deepd3) (3.0.2)\n",
            "Requirement already satisfied: numexpr>=2.6.2 in /usr/local/lib/python3.10/dist-packages (from tables->flammkuchen->deepd3) (2.8.7)\n",
            "Requirement already satisfied: blosc2~=2.0.0 in /usr/local/lib/python3.10/dist-packages (from tables->flammkuchen->deepd3) (2.0.0)\n",
            "Requirement already satisfied: py-cpuinfo in /usr/local/lib/python3.10/dist-packages (from tables->flammkuchen->deepd3) (9.0.0)\n",
            "Requirement already satisfied: msgpack in /usr/local/lib/python3.10/dist-packages (from blosc2~=2.0.0->tables->flammkuchen->deepd3) (1.0.7)\n",
            "Requirement already satisfied: joblib>=1.1.1 in /usr/local/lib/python3.10/dist-packages (from scikit-learn>=0.19.1->qudida>=0.0.4->albumentations->deepd3) (1.3.2)\n",
            "Requirement already satisfied: threadpoolctl>=2.0.0 in /usr/local/lib/python3.10/dist-packages (from scikit-learn>=0.19.1->qudida>=0.0.4->albumentations->deepd3) (3.2.0)\n",
            "Installing collected packages: PyQt5-Qt5, roifile, pyqtgraph, PyQt5-sip, connected-components-3d, pyqt5, keras-applications, image-classifiers, flammkuchen, efficientnet, segmentation-models, deepd3\n",
            "Successfully installed PyQt5-Qt5-5.15.2 PyQt5-sip-12.12.2 connected-components-3d-3.12.3 deepd3-0.1 efficientnet-1.0.0 flammkuchen-1.0.3 image-classifiers-1.0.0 keras-applications-1.0.8 pyqt5-5.15.9 pyqtgraph-0.13.3 roifile-2023.8.30 segmentation-models-1.0.1\n"
          ]
        }
      ]
    },
    {
      "cell_type": "code",
      "source": [
        "!pip install segmentation_models"
      ],
      "metadata": {
        "colab": {
          "base_uri": "https://localhost:8080/"
        },
        "id": "1_JE3iXqYPDg",
        "outputId": "bc73618e-bd7c-4bf2-ab69-247ed999fe8e"
      },
      "id": "1_JE3iXqYPDg",
      "execution_count": 3,
      "outputs": [
        {
          "output_type": "stream",
          "name": "stdout",
          "text": [
            "Requirement already satisfied: segmentation_models in /usr/local/lib/python3.10/dist-packages (1.0.1)\n",
            "Requirement already satisfied: keras-applications<=1.0.8,>=1.0.7 in /usr/local/lib/python3.10/dist-packages (from segmentation_models) (1.0.8)\n",
            "Requirement already satisfied: image-classifiers==1.0.0 in /usr/local/lib/python3.10/dist-packages (from segmentation_models) (1.0.0)\n",
            "Requirement already satisfied: efficientnet==1.0.0 in /usr/local/lib/python3.10/dist-packages (from segmentation_models) (1.0.0)\n",
            "Requirement already satisfied: scikit-image in /usr/local/lib/python3.10/dist-packages (from efficientnet==1.0.0->segmentation_models) (0.19.3)\n",
            "Requirement already satisfied: numpy>=1.9.1 in /usr/local/lib/python3.10/dist-packages (from keras-applications<=1.0.8,>=1.0.7->segmentation_models) (1.23.5)\n",
            "Requirement already satisfied: h5py in /usr/local/lib/python3.10/dist-packages (from keras-applications<=1.0.8,>=1.0.7->segmentation_models) (3.9.0)\n",
            "Requirement already satisfied: scipy>=1.4.1 in /usr/local/lib/python3.10/dist-packages (from scikit-image->efficientnet==1.0.0->segmentation_models) (1.11.3)\n",
            "Requirement already satisfied: networkx>=2.2 in /usr/local/lib/python3.10/dist-packages (from scikit-image->efficientnet==1.0.0->segmentation_models) (3.1)\n",
            "Requirement already satisfied: pillow!=7.1.0,!=7.1.1,!=8.3.0,>=6.1.0 in /usr/local/lib/python3.10/dist-packages (from scikit-image->efficientnet==1.0.0->segmentation_models) (9.4.0)\n",
            "Requirement already satisfied: imageio>=2.4.1 in /usr/local/lib/python3.10/dist-packages (from scikit-image->efficientnet==1.0.0->segmentation_models) (2.31.5)\n",
            "Requirement already satisfied: tifffile>=2019.7.26 in /usr/local/lib/python3.10/dist-packages (from scikit-image->efficientnet==1.0.0->segmentation_models) (2023.9.26)\n",
            "Requirement already satisfied: PyWavelets>=1.1.1 in /usr/local/lib/python3.10/dist-packages (from scikit-image->efficientnet==1.0.0->segmentation_models) (1.4.1)\n",
            "Requirement already satisfied: packaging>=20.0 in /usr/local/lib/python3.10/dist-packages (from scikit-image->efficientnet==1.0.0->segmentation_models) (23.2)\n"
          ]
        }
      ]
    },
    {
      "cell_type": "code",
      "source": [
        "import os\n",
        "os.environ[\"SM_FRAMEWORK\"] = \"tf.keras\"\n",
        "\n",
        "from tensorflow import keras\n",
        "import segmentation_models as sm"
      ],
      "metadata": {
        "colab": {
          "base_uri": "https://localhost:8080/"
        },
        "id": "SajGNETAYgRd",
        "outputId": "1d92dd03-0d44-4a0d-e42d-a12adb7f0335"
      },
      "id": "SajGNETAYgRd",
      "execution_count": 4,
      "outputs": [
        {
          "output_type": "stream",
          "name": "stdout",
          "text": [
            "Segmentation Models: using `tf.keras` framework.\n"
          ]
        }
      ]
    },
    {
      "cell_type": "code",
      "execution_count": 5,
      "id": "7fccdf22",
      "metadata": {
        "id": "7fccdf22"
      },
      "outputs": [],
      "source": [
        "# Neural network libraries\n",
        "import tensorflow as tf\n",
        "from tensorflow import keras\n",
        "from tensorflow.keras.optimizers import Adam\n",
        "import segmentation_models as sm\n",
        "sm.set_framework(\"tf.keras\")\n",
        "\n",
        "# Plotting\n",
        "import matplotlib.pyplot as plt\n",
        "%matplotlib inline\n",
        "\n",
        "# DeepD3\n",
        "from deepd3.model import DeepD3_Model\n",
        "from deepd3.training.stream import DataGeneratorStream"
      ]
    },
    {
      "cell_type": "markdown",
      "id": "232bb972",
      "metadata": {
        "id": "232bb972"
      },
      "source": [
        "## Load training data"
      ]
    },
    {
      "cell_type": "code",
      "source": [
        "from google.colab import drive\n",
        "drive.mount('/content/drive/')"
      ],
      "metadata": {
        "colab": {
          "base_uri": "https://localhost:8080/"
        },
        "id": "l8C8T6qb-UWD",
        "outputId": "99f6f748-82e3-4705-f387-775116d05dda"
      },
      "id": "l8C8T6qb-UWD",
      "execution_count": 6,
      "outputs": [
        {
          "output_type": "stream",
          "name": "stdout",
          "text": [
            "Mounted at /content/drive/\n"
          ]
        }
      ]
    },
    {
      "cell_type": "code",
      "execution_count": 7,
      "id": "4b70a2b2",
      "metadata": {
        "id": "4b70a2b2"
      },
      "outputs": [],
      "source": [
        "TRAINING_DATA_PATH = '/content/drive/MyDrive/train.d3set'\n",
        "\n",
        "dg_training = DataGeneratorStream(TRAINING_DATA_PATH,\n",
        "                                  batch_size=2, # Data processed at once, depends on your GPU\n",
        "                                  target_resolution=0.06, # fixed to 94 nm, can be None for mixed resolution training\n",
        "                                  min_content=50) # images need to have at least 50 segmented px\n"
      ]
    },
    {
      "cell_type": "code",
      "source": [
        "\n",
        "VALIDATION_DATA_PATH = '/content/drive/MyDrive/validation.d3set'\n",
        "dg_validation = DataGeneratorStream(VALIDATION_DATA_PATH,\n",
        "                                    batch_size=2,\n",
        "                                    target_resolution=0.06,\n",
        "                                    min_content=50,\n",
        "                                    augment=False,\n",
        "                                    shuffle=False)"
      ],
      "metadata": {
        "id": "m5bwAptz-sMX"
      },
      "id": "m5bwAptz-sMX",
      "execution_count": 8,
      "outputs": []
    },
    {
      "cell_type": "markdown",
      "id": "6ac109e3",
      "metadata": {
        "id": "6ac109e3"
      },
      "source": [
        "## Visualize data"
      ]
    },
    {
      "cell_type": "markdown",
      "id": "71927db0",
      "metadata": {
        "id": "71927db0"
      },
      "source": [
        "Glancing on the data to verify that settings are as expected."
      ]
    },
    {
      "cell_type": "code",
      "execution_count": 9,
      "id": "a63b4a9d",
      "metadata": {
        "id": "a63b4a9d",
        "colab": {
          "base_uri": "https://localhost:8080/",
          "height": 407
        },
        "outputId": "34a7cc2c-ff04-40d7-974c-1d9f91dfd19d"
      },
      "outputs": [
        {
          "output_type": "display_data",
          "data": {
            "text/plain": [
              "<Figure size 1200x400 with 6 Axes>"
            ],
            "image/png": "[encoded data removed]"
          },
          "metadata": {}
        }
      ],
      "source": [
        "X, Y = dg_training[0]\n",
        "i = 0\n",
        "\n",
        "plt.figure(figsize=(12,4))\n",
        "\n",
        "plt.subplot(131)\n",
        "plt.imshow(X[i].squeeze(), cmap='gray')\n",
        "plt.colorbar()\n",
        "\n",
        "plt.subplot(132)\n",
        "plt.imshow(Y[0][i].squeeze(), cmap='gray')\n",
        "plt.colorbar()\n",
        "\n",
        "plt.subplot(133)\n",
        "plt.imshow(Y[1][i].squeeze(), cmap='gray')\n",
        "plt.colorbar()\n",
        "\n",
        "plt.tight_layout()"
      ]
    },
    {
      "cell_type": "markdown",
      "id": "d5f94b2c",
      "metadata": {
        "id": "d5f94b2c"
      },
      "source": [
        "## Creating model and set training parameters"
      ]
    },
    {
      "cell_type": "code",
      "execution_count": 10,
      "id": "c9c0904a",
      "metadata": {
        "scrolled": false,
        "id": "c9c0904a",
        "colab": {
          "base_uri": "https://localhost:8080/"
        },
        "outputId": "4ca7edb6-ce93-417c-a640-1f2b06b31978"
      },
      "outputs": [
        {
          "output_type": "stream",
          "name": "stdout",
          "text": [
            "Model: \"model\"\n",
            "__________________________________________________________________________________________________\n",
            " Layer (type)                Output Shape                 Param #   Connected to                  \n",
            "==================================================================================================\n",
            " input (InputLayer)          [(None, 128, 128, 1)]        0         []                            \n",
            "                                                                                                  \n",
            " enc_layer0_conv1 (Conv2D)   (None, 128, 128, 32)         288       ['input[0][0]']               \n",
            "                                                                                                  \n",
            " enc_layer0_conv1_BN (Batch  (None, 128, 128, 32)         128       ['enc_layer0_conv1[0][0]']    \n",
            " Normalization)                                                                                   \n",
            "                                                                                                  \n",
            " enc_layer0_conv1_activatio  (None, 128, 128, 32)         0         ['enc_layer0_conv1_BN[0][0]'] \n",
            " n (Activation)                                                                                   \n",
            "                                                                                                  \n",
            " enc_layer0_conv2 (Conv2D)   (None, 128, 128, 32)         9216      ['enc_layer0_conv1_activation[\n",
            "                                                                    0][0]']                       \n",
            "                                                                                                  \n",
            " enc_layer0_identity (Conv2  (None, 128, 128, 32)         32        ['input[0][0]']               \n",
            " D)                                                                                               \n",
            "                                                                                                  \n",
            " enc_layer0_conv2_BN (Batch  (None, 128, 128, 32)         128       ['enc_layer0_conv2[0][0]']    \n",
            " Normalization)                                                                                   \n",
            "                                                                                                  \n",
            " enc_layer0_conv2_residual_  (None, 128, 128, 32)         0         ['enc_layer0_identity[0][0]', \n",
            " connection (Add)                                                    'enc_layer0_conv2_BN[0][0]'] \n",
            "                                                                                                  \n",
            " enc_layer0_conv2_activatio  (None, 128, 128, 32)         0         ['enc_layer0_conv2_residual_co\n",
            " n (Activation)                                                     nnection[0][0]']              \n",
            "                                                                                                  \n",
            " max_pooling2d (MaxPooling2  (None, 64, 64, 32)           0         ['enc_layer0_conv2_activation[\n",
            " D)                                                                 0][0]']                       \n",
            "                                                                                                  \n",
            " enc_layer1_conv1 (Conv2D)   (None, 64, 64, 64)           18432     ['max_pooling2d[0][0]']       \n",
            "                                                                                                  \n",
            " enc_layer1_conv1_BN (Batch  (None, 64, 64, 64)           256       ['enc_layer1_conv1[0][0]']    \n",
            " Normalization)                                                                                   \n",
            "                                                                                                  \n",
            " enc_layer1_conv1_activatio  (None, 64, 64, 64)           0         ['enc_layer1_conv1_BN[0][0]'] \n",
            " n (Activation)                                                                                   \n",
            "                                                                                                  \n",
            " enc_layer1_conv2 (Conv2D)   (None, 64, 64, 64)           36864     ['enc_layer1_conv1_activation[\n",
            "                                                                    0][0]']                       \n",
            "                                                                                                  \n",
            " enc_layer1_identity (Conv2  (None, 64, 64, 64)           2048      ['max_pooling2d[0][0]']       \n",
            " D)                                                                                               \n",
            "                                                                                                  \n",
            " enc_layer1_conv2_BN (Batch  (None, 64, 64, 64)           256       ['enc_layer1_conv2[0][0]']    \n",
            " Normalization)                                                                                   \n",
            "                                                                                                  \n",
            " enc_layer1_conv2_residual_  (None, 64, 64, 64)           0         ['enc_layer1_identity[0][0]', \n",
            " connection (Add)                                                    'enc_layer1_conv2_BN[0][0]'] \n",
            "                                                                                                  \n",
            " enc_layer1_conv2_activatio  (None, 64, 64, 64)           0         ['enc_layer1_conv2_residual_co\n",
            " n (Activation)                                                     nnection[0][0]']              \n",
            "                                                                                                  \n",
            " max_pooling2d_1 (MaxPoolin  (None, 32, 32, 64)           0         ['enc_layer1_conv2_activation[\n",
            " g2D)                                                               0][0]']                       \n",
            "                                                                                                  \n",
            " enc_layer2_conv1 (Conv2D)   (None, 32, 32, 128)          73728     ['max_pooling2d_1[0][0]']     \n",
            "                                                                                                  \n",
            " enc_layer2_conv1_BN (Batch  (None, 32, 32, 128)          512       ['enc_layer2_conv1[0][0]']    \n",
            " Normalization)                                                                                   \n",
            "                                                                                                  \n",
            " enc_layer2_conv1_activatio  (None, 32, 32, 128)          0         ['enc_layer2_conv1_BN[0][0]'] \n",
            " n (Activation)                                                                                   \n",
            "                                                                                                  \n",
            " enc_layer2_conv2 (Conv2D)   (None, 32, 32, 128)          147456    ['enc_layer2_conv1_activation[\n",
            "                                                                    0][0]']                       \n",
            "                                                                                                  \n",
            " enc_layer2_identity (Conv2  (None, 32, 32, 128)          8192      ['max_pooling2d_1[0][0]']     \n",
            " D)                                                                                               \n",
            "                                                                                                  \n",
            " enc_layer2_conv2_BN (Batch  (None, 32, 32, 128)          512       ['enc_layer2_conv2[0][0]']    \n",
            " Normalization)                                                                                   \n",
            "                                                                                                  \n",
            " enc_layer2_conv2_residual_  (None, 32, 32, 128)          0         ['enc_layer2_identity[0][0]', \n",
            " connection (Add)                                                    'enc_layer2_conv2_BN[0][0]'] \n",
            "                                                                                                  \n",
            " enc_layer2_conv2_activatio  (None, 32, 32, 128)          0         ['enc_layer2_conv2_residual_co\n",
            " n (Activation)                                                     nnection[0][0]']              \n",
            "                                                                                                  \n",
            " max_pooling2d_2 (MaxPoolin  (None, 16, 16, 128)          0         ['enc_layer2_conv2_activation[\n",
            " g2D)                                                               0][0]']                       \n",
            "                                                                                                  \n",
            " enc_layer3_conv1 (Conv2D)   (None, 16, 16, 256)          294912    ['max_pooling2d_2[0][0]']     \n",
            "                                                                                                  \n",
            " enc_layer3_conv1_BN (Batch  (None, 16, 16, 256)          1024      ['enc_layer3_conv1[0][0]']    \n",
            " Normalization)                                                                                   \n",
            "                                                                                                  \n",
            " enc_layer3_conv1_activatio  (None, 16, 16, 256)          0         ['enc_layer3_conv1_BN[0][0]'] \n",
            " n (Activation)                                                                                   \n",
            "                                                                                                  \n",
            " enc_layer3_conv2 (Conv2D)   (None, 16, 16, 256)          589824    ['enc_layer3_conv1_activation[\n",
            "                                                                    0][0]']                       \n",
            "                                                                                                  \n",
            " enc_layer3_identity (Conv2  (None, 16, 16, 256)          32768     ['max_pooling2d_2[0][0]']     \n",
            " D)                                                                                               \n",
            "                                                                                                  \n",
            " enc_layer3_conv2_BN (Batch  (None, 16, 16, 256)          1024      ['enc_layer3_conv2[0][0]']    \n",
            " Normalization)                                                                                   \n",
            "                                                                                                  \n",
            " enc_layer3_conv2_residual_  (None, 16, 16, 256)          0         ['enc_layer3_identity[0][0]', \n",
            " connection (Add)                                                    'enc_layer3_conv2_BN[0][0]'] \n",
            "                                                                                                  \n",
            " enc_layer3_conv2_activatio  (None, 16, 16, 256)          0         ['enc_layer3_conv2_residual_co\n",
            " n (Activation)                                                     nnection[0][0]']              \n",
            "                                                                                                  \n",
            " max_pooling2d_3 (MaxPoolin  (None, 8, 8, 256)            0         ['enc_layer3_conv2_activation[\n",
            " g2D)                                                               0][0]']                       \n",
            "                                                                                                  \n",
            " latent_conv (Conv2D)        (None, 8, 8, 512)            1179648   ['max_pooling2d_3[0][0]']     \n",
            "                                                                                                  \n",
            " latent_conv_BN (BatchNorma  (None, 8, 8, 512)            2048      ['latent_conv[0][0]']         \n",
            " lization)                                                                                        \n",
            "                                                                                                  \n",
            " latent_conv_activation (Ac  (None, 8, 8, 512)            0         ['latent_conv_BN[0][0]']      \n",
            " tivation)                                                                                        \n",
            "                                                                                                  \n",
            " up_sampling2d (UpSampling2  (None, 16, 16, 512)          0         ['latent_conv_activation[0][0]\n",
            " D)                                                                 ']                            \n",
            "                                                                                                  \n",
            " up_sampling2d_4 (UpSamplin  (None, 16, 16, 512)          0         ['latent_conv_activation[0][0]\n",
            " g2D)                                                               ']                            \n",
            "                                                                                                  \n",
            " concatenate (Concatenate)   (None, 16, 16, 768)          0         ['up_sampling2d[0][0]',       \n",
            "                                                                     'enc_layer3_conv2_activation[\n",
            "                                                                    0][0]']                       \n",
            "                                                                                                  \n",
            " concatenate_4 (Concatenate  (None, 16, 16, 768)          0         ['up_sampling2d_4[0][0]',     \n",
            " )                                                                   'enc_layer3_conv2_activation[\n",
            "                                                                    0][0]']                       \n",
            "                                                                                                  \n",
            " dendrites_dec_layer4_conv1  (None, 16, 16, 256)          1769472   ['concatenate[0][0]']         \n",
            "  (Conv2D)                                                                                        \n",
            "                                                                                                  \n",
            " spines_dec_layer4_conv1 (C  (None, 16, 16, 256)          1769472   ['concatenate_4[0][0]']       \n",
            " onv2D)                                                                                           \n",
            "                                                                                                  \n",
            " dendrites_dec_layer4_conv1  (None, 16, 16, 256)          1024      ['dendrites_dec_layer4_conv1[0\n",
            " _BN (BatchNormalization)                                           ][0]']                        \n",
            "                                                                                                  \n",
            " spines_dec_layer4_conv1_BN  (None, 16, 16, 256)          1024      ['spines_dec_layer4_conv1[0][0\n",
            "  (BatchNormalization)                                              ]']                           \n",
            "                                                                                                  \n",
            " dendrites_dec_layer4_conv1  (None, 16, 16, 256)          0         ['dendrites_dec_layer4_conv1_B\n",
            " _activation (Activation)                                           N[0][0]']                     \n",
            "                                                                                                  \n",
            " spines_dec_layer4_conv1_ac  (None, 16, 16, 256)          0         ['spines_dec_layer4_conv1_BN[0\n",
            " tivation (Activation)                                              ][0]']                        \n",
            "                                                                                                  \n",
            " dendrites_dec_layer4_conv2  (None, 16, 16, 256)          589824    ['dendrites_dec_layer4_conv1_a\n",
            "  (Conv2D)                                                          ctivation[0][0]']             \n",
            "                                                                                                  \n",
            " spines_dec_layer4_conv2 (C  (None, 16, 16, 256)          589824    ['spines_dec_layer4_conv1_acti\n",
            " onv2D)                                                             vation[0][0]']                \n",
            "                                                                                                  \n",
            " dendrites_dec_layer4_conv2  (None, 16, 16, 256)          1024      ['dendrites_dec_layer4_conv2[0\n",
            " _BN (BatchNormalization)                                           ][0]']                        \n",
            "                                                                                                  \n",
            " spines_dec_layer4_conv2_BN  (None, 16, 16, 256)          1024      ['spines_dec_layer4_conv2[0][0\n",
            "  (BatchNormalization)                                              ]']                           \n",
            "                                                                                                  \n",
            " dendrites_dec_layer4_conv2  (None, 16, 16, 256)          0         ['dendrites_dec_layer4_conv2_B\n",
            " _activation (Activation)                                           N[0][0]']                     \n",
            "                                                                                                  \n",
            " spines_dec_layer4_conv2_ac  (None, 16, 16, 256)          0         ['spines_dec_layer4_conv2_BN[0\n",
            " tivation (Activation)                                              ][0]']                        \n",
            "                                                                                                  \n",
            " up_sampling2d_1 (UpSamplin  (None, 32, 32, 256)          0         ['dendrites_dec_layer4_conv2_a\n",
            " g2D)                                                               ctivation[0][0]']             \n",
            "                                                                                                  \n",
            " up_sampling2d_5 (UpSamplin  (None, 32, 32, 256)          0         ['spines_dec_layer4_conv2_acti\n",
            " g2D)                                                               vation[0][0]']                \n",
            "                                                                                                  \n",
            " concatenate_1 (Concatenate  (None, 32, 32, 384)          0         ['up_sampling2d_1[0][0]',     \n",
            " )                                                                   'enc_layer2_conv2_activation[\n",
            "                                                                    0][0]']                       \n",
            "                                                                                                  \n",
            " concatenate_5 (Concatenate  (None, 32, 32, 384)          0         ['up_sampling2d_5[0][0]',     \n",
            " )                                                                   'enc_layer2_conv2_activation[\n",
            "                                                                    0][0]']                       \n",
            "                                                                                                  \n",
            " dendrites_dec_layer3_conv1  (None, 32, 32, 128)          442368    ['concatenate_1[0][0]']       \n",
            "  (Conv2D)                                                                                        \n",
            "                                                                                                  \n",
            " spines_dec_layer3_conv1 (C  (None, 32, 32, 128)          442368    ['concatenate_5[0][0]']       \n",
            " onv2D)                                                                                           \n",
            "                                                                                                  \n",
            " dendrites_dec_layer3_conv1  (None, 32, 32, 128)          512       ['dendrites_dec_layer3_conv1[0\n",
            " _BN (BatchNormalization)                                           ][0]']                        \n",
            "                                                                                                  \n",
            " spines_dec_layer3_conv1_BN  (None, 32, 32, 128)          512       ['spines_dec_layer3_conv1[0][0\n",
            "  (BatchNormalization)                                              ]']                           \n",
            "                                                                                                  \n",
            " dendrites_dec_layer3_conv1  (None, 32, 32, 128)          0         ['dendrites_dec_layer3_conv1_B\n",
            " _activation (Activation)                                           N[0][0]']                     \n",
            "                                                                                                  \n",
            " spines_dec_layer3_conv1_ac  (None, 32, 32, 128)          0         ['spines_dec_layer3_conv1_BN[0\n",
            " tivation (Activation)                                              ][0]']                        \n",
            "                                                                                                  \n",
            " dendrites_dec_layer3_conv2  (None, 32, 32, 128)          147456    ['dendrites_dec_layer3_conv1_a\n",
            "  (Conv2D)                                                          ctivation[0][0]']             \n",
            "                                                                                                  \n",
            " spines_dec_layer3_conv2 (C  (None, 32, 32, 128)          147456    ['spines_dec_layer3_conv1_acti\n",
            " onv2D)                                                             vation[0][0]']                \n",
            "                                                                                                  \n",
            " dendrites_dec_layer3_conv2  (None, 32, 32, 128)          512       ['dendrites_dec_layer3_conv2[0\n",
            " _BN (BatchNormalization)                                           ][0]']                        \n",
            "                                                                                                  \n",
            " spines_dec_layer3_conv2_BN  (None, 32, 32, 128)          512       ['spines_dec_layer3_conv2[0][0\n",
            "  (BatchNormalization)                                              ]']                           \n",
            "                                                                                                  \n",
            " dendrites_dec_layer3_conv2  (None, 32, 32, 128)          0         ['dendrites_dec_layer3_conv2_B\n",
            " _activation (Activation)                                           N[0][0]']                     \n",
            "                                                                                                  \n",
            " spines_dec_layer3_conv2_ac  (None, 32, 32, 128)          0         ['spines_dec_layer3_conv2_BN[0\n",
            " tivation (Activation)                                              ][0]']                        \n",
            "                                                                                                  \n",
            " up_sampling2d_2 (UpSamplin  (None, 64, 64, 128)          0         ['dendrites_dec_layer3_conv2_a\n",
            " g2D)                                                               ctivation[0][0]']             \n",
            "                                                                                                  \n",
            " up_sampling2d_6 (UpSamplin  (None, 64, 64, 128)          0         ['spines_dec_layer3_conv2_acti\n",
            " g2D)                                                               vation[0][0]']                \n",
            "                                                                                                  \n",
            " concatenate_2 (Concatenate  (None, 64, 64, 192)          0         ['up_sampling2d_2[0][0]',     \n",
            " )                                                                   'enc_layer1_conv2_activation[\n",
            "                                                                    0][0]']                       \n",
            "                                                                                                  \n",
            " concatenate_6 (Concatenate  (None, 64, 64, 192)          0         ['up_sampling2d_6[0][0]',     \n",
            " )                                                                   'enc_layer1_conv2_activation[\n",
            "                                                                    0][0]']                       \n",
            "                                                                                                  \n",
            " dendrites_dec_layer2_conv1  (None, 64, 64, 64)           110592    ['concatenate_2[0][0]']       \n",
            "  (Conv2D)                                                                                        \n",
            "                                                                                                  \n",
            " spines_dec_layer2_conv1 (C  (None, 64, 64, 64)           110592    ['concatenate_6[0][0]']       \n",
            " onv2D)                                                                                           \n",
            "                                                                                                  \n",
            " dendrites_dec_layer2_conv1  (None, 64, 64, 64)           256       ['dendrites_dec_layer2_conv1[0\n",
            " _BN (BatchNormalization)                                           ][0]']                        \n",
            "                                                                                                  \n",
            " spines_dec_layer2_conv1_BN  (None, 64, 64, 64)           256       ['spines_dec_layer2_conv1[0][0\n",
            "  (BatchNormalization)                                              ]']                           \n",
            "                                                                                                  \n",
            " dendrites_dec_layer2_conv1  (None, 64, 64, 64)           0         ['dendrites_dec_layer2_conv1_B\n",
            " _activation (Activation)                                           N[0][0]']                     \n",
            "                                                                                                  \n",
            " spines_dec_layer2_conv1_ac  (None, 64, 64, 64)           0         ['spines_dec_layer2_conv1_BN[0\n",
            " tivation (Activation)                                              ][0]']                        \n",
            "                                                                                                  \n",
            " dendrites_dec_layer2_conv2  (None, 64, 64, 64)           36864     ['dendrites_dec_layer2_conv1_a\n",
            "  (Conv2D)                                                          ctivation[0][0]']             \n",
            "                                                                                                  \n",
            " spines_dec_layer2_conv2 (C  (None, 64, 64, 64)           36864     ['spines_dec_layer2_conv1_acti\n",
            " onv2D)                                                             vation[0][0]']                \n",
            "                                                                                                  \n",
            " dendrites_dec_layer2_conv2  (None, 64, 64, 64)           256       ['dendrites_dec_layer2_conv2[0\n",
            " _BN (BatchNormalization)                                           ][0]']                        \n",
            "                                                                                                  \n",
            " spines_dec_layer2_conv2_BN  (None, 64, 64, 64)           256       ['spines_dec_layer2_conv2[0][0\n",
            "  (BatchNormalization)                                              ]']                           \n",
            "                                                                                                  \n",
            " dendrites_dec_layer2_conv2  (None, 64, 64, 64)           0         ['dendrites_dec_layer2_conv2_B\n",
            " _activation (Activation)                                           N[0][0]']                     \n",
            "                                                                                                  \n",
            " spines_dec_layer2_conv2_ac  (None, 64, 64, 64)           0         ['spines_dec_layer2_conv2_BN[0\n",
            " tivation (Activation)                                              ][0]']                        \n",
            "                                                                                                  \n",
            " up_sampling2d_3 (UpSamplin  (None, 128, 128, 64)         0         ['dendrites_dec_layer2_conv2_a\n",
            " g2D)                                                               ctivation[0][0]']             \n",
            "                                                                                                  \n",
            " up_sampling2d_7 (UpSamplin  (None, 128, 128, 64)         0         ['spines_dec_layer2_conv2_acti\n",
            " g2D)                                                               vation[0][0]']                \n",
            "                                                                                                  \n",
            " concatenate_3 (Concatenate  (None, 128, 128, 96)         0         ['up_sampling2d_3[0][0]',     \n",
            " )                                                                   'enc_layer0_conv2_activation[\n",
            "                                                                    0][0]']                       \n",
            "                                                                                                  \n",
            " concatenate_7 (Concatenate  (None, 128, 128, 96)         0         ['up_sampling2d_7[0][0]',     \n",
            " )                                                                   'enc_layer0_conv2_activation[\n",
            "                                                                    0][0]']                       \n",
            "                                                                                                  \n",
            " dendrites_dec_layer1_conv1  (None, 128, 128, 32)         27648     ['concatenate_3[0][0]']       \n",
            "  (Conv2D)                                                                                        \n",
            "                                                                                                  \n",
            " spines_dec_layer1_conv1 (C  (None, 128, 128, 32)         27648     ['concatenate_7[0][0]']       \n",
            " onv2D)                                                                                           \n",
            "                                                                                                  \n",
            " dendrites_dec_layer1_conv1  (None, 128, 128, 32)         128       ['dendrites_dec_layer1_conv1[0\n",
            " _BN (BatchNormalization)                                           ][0]']                        \n",
            "                                                                                                  \n",
            " spines_dec_layer1_conv1_BN  (None, 128, 128, 32)         128       ['spines_dec_layer1_conv1[0][0\n",
            "  (BatchNormalization)                                              ]']                           \n",
            "                                                                                                  \n",
            " dendrites_dec_layer1_conv1  (None, 128, 128, 32)         0         ['dendrites_dec_layer1_conv1_B\n",
            " _activation (Activation)                                           N[0][0]']                     \n",
            "                                                                                                  \n",
            " spines_dec_layer1_conv1_ac  (None, 128, 128, 32)         0         ['spines_dec_layer1_conv1_BN[0\n",
            " tivation (Activation)                                              ][0]']                        \n",
            "                                                                                                  \n",
            " dendrites_dec_layer1_conv2  (None, 128, 128, 32)         9216      ['dendrites_dec_layer1_conv1_a\n",
            "  (Conv2D)                                                          ctivation[0][0]']             \n",
            "                                                                                                  \n",
            " spines_dec_layer1_conv2 (C  (None, 128, 128, 32)         9216      ['spines_dec_layer1_conv1_acti\n",
            " onv2D)                                                             vation[0][0]']                \n",
            "                                                                                                  \n",
            " dendrites_dec_layer1_conv2  (None, 128, 128, 32)         128       ['dendrites_dec_layer1_conv2[0\n",
            " _BN (BatchNormalization)                                           ][0]']                        \n",
            "                                                                                                  \n",
            " spines_dec_layer1_conv2_BN  (None, 128, 128, 32)         128       ['spines_dec_layer1_conv2[0][0\n",
            "  (BatchNormalization)                                              ]']                           \n",
            "                                                                                                  \n",
            " dendrites_dec_layer1_conv2  (None, 128, 128, 32)         0         ['dendrites_dec_layer1_conv2_B\n",
            " _activation (Activation)                                           N[0][0]']                     \n",
            "                                                                                                  \n",
            " spines_dec_layer1_conv2_ac  (None, 128, 128, 32)         0         ['spines_dec_layer1_conv2_BN[0\n",
            " tivation (Activation)                                              ][0]']                        \n",
            "                                                                                                  \n",
            " dendrites (Conv2D)          (None, 128, 128, 1)          33        ['dendrites_dec_layer1_conv2_a\n",
            "                                                                    ctivation[0][0]']             \n",
            "                                                                                                  \n",
            " spines (Conv2D)             (None, 128, 128, 1)          33        ['spines_dec_layer1_conv2_acti\n",
            "                                                                    vation[0][0]']                \n",
            "                                                                                                  \n",
            "==================================================================================================\n",
            "Total params: 8673922 (33.09 MB)\n",
            "Trainable params: 8667138 (33.06 MB)\n",
            "Non-trainable params: 6784 (26.50 KB)\n",
            "__________________________________________________________________________________________________\n"
          ]
        }
      ],
      "source": [
        "# Create a naive DeepD3 model with a given base filter count (e.g. 32)\n",
        "m = DeepD3_Model(filters=32)\n",
        "\n",
        "# Set appropriate training settings\n",
        "m.compile(Adam(learning_rate=0.0005), # optimizer, good default setting, can be tuned\n",
        "          [sm.losses.dice_loss, \"mse\"], # Dice loss for dendrite, MSE for spines\n",
        "          metrics=['acc', sm.metrics.iou_score]) # Metrics for monitoring progress\n",
        "\n",
        "m.summary()"
      ]
    },
    {
      "cell_type": "markdown",
      "id": "816b5652",
      "metadata": {
        "id": "816b5652"
      },
      "source": [
        "## Fitting model"
      ]
    },
    {
      "cell_type": "markdown",
      "id": "0ffe2faf",
      "metadata": {
        "id": "0ffe2faf"
      },
      "source": [
        "Loading some training callbacks, such as adjusting the learning rate across time, saving training progress and intermediate models"
      ]
    },
    {
      "cell_type": "code",
      "execution_count": 11,
      "id": "ba233f13",
      "metadata": {
        "id": "ba233f13"
      },
      "outputs": [],
      "source": [
        "from tensorflow.keras.callbacks import ModelCheckpoint, CSVLogger, LearningRateScheduler"
      ]
    },
    {
      "cell_type": "code",
      "execution_count": 12,
      "id": "19ec7aa4",
      "metadata": {
        "id": "19ec7aa4"
      },
      "outputs": [],
      "source": [
        "def schedule(epoch, lr):\n",
        "    if epoch < 15:\n",
        "        return lr\n",
        "\n",
        "    else:\n",
        "        return lr * tf.math.exp(-0.1)"
      ]
    },
    {
      "cell_type": "markdown",
      "id": "8b454030",
      "metadata": {
        "id": "8b454030"
      },
      "source": [
        "# Train your own DeepD3 model"
      ]
    },
    {
      "cell_type": "code",
      "execution_count": 13,
      "id": "69b4777e",
      "metadata": {
        "id": "69b4777e",
        "colab": {
          "base_uri": "https://localhost:8080/"
        },
        "outputId": "a17ef0e3-b124-4cd5-fd17-b10f28a804a9"
      },
      "outputs": [
        {
          "output_type": "stream",
          "name": "stdout",
          "text": [
            "Epoch 1/10\n",
            "24998/25000 [============================>.] - ETA: 0s - loss: 0.2206 - dendrites_loss: 0.2147 - spines_loss: 0.0059 - dendrites_acc: 0.9018 - dendrites_iou_score: 0.6656 - spines_acc: 0.9838 - spines_iou_score: 0.3723"
          ]
        },
        {
          "output_type": "stream",
          "name": "stderr",
          "text": [
            "/usr/local/lib/python3.10/dist-packages/keras/src/engine/training.py:3000: UserWarning: You are saving your model as an HDF5 file via `model.save()`. This file format is considered legacy. We recommend using instead the native Keras format, e.g. `model.save('my_model.keras')`.\n",
            "  saving_api.save_model(\n"
          ]
        },
        {
          "output_type": "stream",
          "name": "stdout",
          "text": [
            "\b\b\b\b\b\b\b\b\b\b\b\b\b\b\b\b\b\b\b\b\b\b\b\b\b\b\b\b\b\b\b\b\b\b\b\b\b\b\b\b\b\b\b\b\b\b\b\b\b\b\b\b\b\b\b\b\b\b\b\b\b\b\b\b\b\b\b\b\b\b\b\b\b\b\b\b\b\b\b\b\b\b\b\b\b\b\b\b\b\b\b\b\b\b\b\b\b\b\b\b\b\b\b\b\b\b\b\b\b\b\b\b\b\b\b\b\b\b\b\b\b\b\b\b\b\b\b\b\b\b\b\b\b\b\b\b\b\b\b\b\b\b\b\b\b\b\b\b\b\b\b\b\b\b\b\b\b\b\b\b\b\b\b\b\b\b\b\b\b\b\b\b\b\b\b\b\b\b\b\b\b\b\b\b\b\b\b\b\b\b\b\b\b\b\b\b\b\b\b\b\b\b\b\b\b\b\b\b\b\b\b\b\b\b\b\b\b\b\r25000/25000 [==============================] - 1005s 39ms/step - loss: 0.2206 - dendrites_loss: 0.2147 - spines_loss: 0.0059 - dendrites_acc: 0.9018 - dendrites_iou_score: 0.6656 - spines_acc: 0.9838 - spines_iou_score: 0.3723 - val_loss: 0.3752 - val_dendrites_loss: 0.3655 - val_spines_loss: 0.0098 - val_dendrites_acc: 0.9288 - val_dendrites_iou_score: 0.4925 - val_spines_acc: 0.9807 - val_spines_iou_score: 0.2835 - lr: 5.0000e-04\n",
            "Epoch 2/10\n",
            "25000/25000 [==============================] - 960s 38ms/step - loss: 0.1408 - dendrites_loss: 0.1379 - spines_loss: 0.0030 - dendrites_acc: 0.9080 - dendrites_iou_score: 0.7702 - spines_acc: 0.9850 - spines_iou_score: 0.5732 - val_loss: 0.3777 - val_dendrites_loss: 0.3671 - val_spines_loss: 0.0106 - val_dendrites_acc: 0.9263 - val_dendrites_iou_score: 0.4908 - val_spines_acc: 0.9817 - val_spines_iou_score: 0.2593 - lr: 5.0000e-04\n",
            "Epoch 3/10\n",
            "25000/25000 [==============================] - 961s 38ms/step - loss: 0.1127 - dendrites_loss: 0.1103 - spines_loss: 0.0024 - dendrites_acc: 0.9098 - dendrites_iou_score: 0.8119 - spines_acc: 0.9852 - spines_iou_score: 0.6405 - val_loss: 0.3717 - val_dendrites_loss: 0.3621 - val_spines_loss: 0.0096 - val_dendrites_acc: 0.9285 - val_dendrites_iou_score: 0.4950 - val_spines_acc: 0.9809 - val_spines_iou_score: 0.3120 - lr: 5.0000e-04\n",
            "Epoch 4/10\n",
            "25000/25000 [==============================] - 954s 38ms/step - loss: 0.1003 - dendrites_loss: 0.0982 - spines_loss: 0.0021 - dendrites_acc: 0.9107 - dendrites_iou_score: 0.8308 - spines_acc: 0.9853 - spines_iou_score: 0.6752 - val_loss: 0.3623 - val_dendrites_loss: 0.3527 - val_spines_loss: 0.0096 - val_dendrites_acc: 0.9259 - val_dendrites_iou_score: 0.5033 - val_spines_acc: 0.9816 - val_spines_iou_score: 0.2971 - lr: 5.0000e-04\n",
            "Epoch 5/10\n",
            "25000/25000 [==============================] - 970s 39ms/step - loss: 0.0915 - dendrites_loss: 0.0895 - spines_loss: 0.0019 - dendrites_acc: 0.9113 - dendrites_iou_score: 0.8443 - spines_acc: 0.9854 - spines_iou_score: 0.7018 - val_loss: 0.3747 - val_dendrites_loss: 0.3639 - val_spines_loss: 0.0109 - val_dendrites_acc: 0.9269 - val_dendrites_iou_score: 0.4943 - val_spines_acc: 0.9823 - val_spines_iou_score: 0.2486 - lr: 5.0000e-04\n",
            "Epoch 6/10\n",
            "25000/25000 [==============================] - 909s 36ms/step - loss: 0.0877 - dendrites_loss: 0.0859 - spines_loss: 0.0018 - dendrites_acc: 0.9116 - dendrites_iou_score: 0.8500 - spines_acc: 0.9855 - spines_iou_score: 0.7172 - val_loss: 0.3764 - val_dendrites_loss: 0.3655 - val_spines_loss: 0.0109 - val_dendrites_acc: 0.9286 - val_dendrites_iou_score: 0.4930 - val_spines_acc: 0.9824 - val_spines_iou_score: 0.2397 - lr: 5.0000e-04\n",
            "Epoch 7/10\n",
            "25000/25000 [==============================] - 910s 36ms/step - loss: 0.0827 - dendrites_loss: 0.0810 - spines_loss: 0.0017 - dendrites_acc: 0.9118 - dendrites_iou_score: 0.8577 - spines_acc: 0.9855 - spines_iou_score: 0.7323 - val_loss: 0.3752 - val_dendrites_loss: 0.3648 - val_spines_loss: 0.0104 - val_dendrites_acc: 0.9280 - val_dendrites_iou_score: 0.4930 - val_spines_acc: 0.9830 - val_spines_iou_score: 0.2638 - lr: 5.0000e-04\n",
            "Epoch 8/10\n",
            "25000/25000 [==============================] - 909s 36ms/step - loss: 0.0792 - dendrites_loss: 0.0776 - spines_loss: 0.0016 - dendrites_acc: 0.9121 - dendrites_iou_score: 0.8634 - spines_acc: 0.9856 - spines_iou_score: 0.7441 - val_loss: 0.3858 - val_dendrites_loss: 0.3752 - val_spines_loss: 0.0106 - val_dendrites_acc: 0.9292 - val_dendrites_iou_score: 0.4841 - val_spines_acc: 0.9827 - val_spines_iou_score: 0.2439 - lr: 5.0000e-04\n",
            "Epoch 9/10\n",
            "25000/25000 [==============================] - 903s 36ms/step - loss: 0.0749 - dendrites_loss: 0.0733 - spines_loss: 0.0015 - dendrites_acc: 0.9123 - dendrites_iou_score: 0.8698 - spines_acc: 0.9856 - spines_iou_score: 0.7545 - val_loss: 0.3796 - val_dendrites_loss: 0.3688 - val_spines_loss: 0.0108 - val_dendrites_acc: 0.9292 - val_dendrites_iou_score: 0.4902 - val_spines_acc: 0.9830 - val_spines_iou_score: 0.2444 - lr: 5.0000e-04\n",
            "Epoch 10/10\n",
            "25000/25000 [==============================] - 917s 37ms/step - loss: 0.0722 - dendrites_loss: 0.0707 - spines_loss: 0.0015 - dendrites_acc: 0.9125 - dendrites_iou_score: 0.8745 - spines_acc: 0.9857 - spines_iou_score: 0.7623 - val_loss: 0.4041 - val_dendrites_loss: 0.3921 - val_spines_loss: 0.0119 - val_dendrites_acc: 0.9289 - val_dendrites_iou_score: 0.4690 - val_spines_acc: 0.9823 - val_spines_iou_score: 0.2025 - lr: 5.0000e-04\n"
          ]
        }
      ],
      "source": [
        "EPOCHS = 10\n",
        "\n",
        "# Save best model automatically during training\n",
        "mc = ModelCheckpoint(\"DeepD3_model.h5\",\n",
        "                            save_best_only=False)\n",
        "\n",
        "# Save metrics\n",
        "csv = CSVLogger(\"DeepD3_model.csv\")\n",
        "\n",
        "# Adjust learning rate during training to allow for better convergence\n",
        "lrs = LearningRateScheduler(schedule)\n",
        "\n",
        "# Actually train the network\n",
        "h = m.fit(dg_training,\n",
        "        batch_size=32,\n",
        "        epochs=EPOCHS,\n",
        "        validation_data=dg_validation,\n",
        "        callbacks=[mc, csv, lrs])"
      ]
    },
    {
      "cell_type": "markdown",
      "id": "4994fd8c",
      "metadata": {
        "id": "4994fd8c"
      },
      "source": [
        "## Save model for use in GUI or batch processing"
      ]
    },
    {
      "cell_type": "markdown",
      "id": "27df4412",
      "metadata": {
        "id": "27df4412"
      },
      "source": [
        "This is for saving the neural network manually. The best model is automatically saved during training."
      ]
    },
    {
      "cell_type": "code",
      "execution_count": 14,
      "id": "9532e339",
      "metadata": {
        "id": "9532e339"
      },
      "outputs": [],
      "source": [
        "m.save(\"deepd3_custom_trained_model.h5\")"
      ]
    }
  ],
  "metadata": {
    "kernelspec": {
      "display_name": "Python 3",
      "name": "python3"
    },
    "language_info": {
      "codemirror_mode": {
        "name": "ipython",
        "version": 3
      },
      "file_extension": ".py",
      "mimetype": "text/x-python",
      "name": "python",
      "nbconvert_exporter": "python",
      "pygments_lexer": "ipython3",
      "version": "3.8.10"
    },
    "vscode": {
      "interpreter": {
        "hash": "916dbcbb3f70747c44a77c7bcd40155683ae19c65e1c03b4aa3499c5328201f1"
      }
    },
    "colab": {
      "provenance": [],
      "gpuType": "V100",
      "include_colab_link": true
    },
    "accelerator": "GPU"
  },
  "nbformat": 4,
  "nbformat_minor": 5
}